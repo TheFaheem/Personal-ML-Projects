{
 "cells": [
  {
   "cell_type": "code",
   "execution_count": 1,
   "id": "3e137cac",
   "metadata": {},
   "outputs": [
    {
     "name": "stdout",
     "output_type": "stream",
     "text": [
      "<class 'numpy.ndarray'>\n",
      "<class 'numpy.ndarray'>\n",
      "[1.1 1.3 1.5 2.  2.2 2.9 3.  3.2 3.2 3.7]\n",
      "[39343. 46205. 37731. 43525. 39891. 56642. 60150. 54445. 64445. 57189.]\n"
     ]
    }
   ],
   "source": [
    "import numpy as np\n",
    "import matplotlib.pyplot as plt\n",
    "from utils import *\n",
    "import copy\n",
    "import math\n",
    "%matplotlib inline\n"
   ]
  },
  {
   "cell_type": "code",
   "execution_count": 2,
   "id": "bb7fdf6a",
   "metadata": {},
   "outputs": [],
   "source": [
    "#loading the dataset\n",
    "x_train, y_train = load_data()"
   ]
  },
  {
   "cell_type": "code",
   "execution_count": 3,
   "id": "e27357d0",
   "metadata": {},
   "outputs": [
    {
     "name": "stdout",
     "output_type": "stream",
     "text": [
      "<class 'numpy.ndarray'>\n",
      "<class 'numpy.ndarray'>\n",
      "[1.1 1.3 1.5 2.  2.2 2.9 3.  3.2 3.2 3.7]\n",
      "[39343. 46205. 37731. 43525. 39891. 56642. 60150. 54445. 64445. 57189.]\n"
     ]
    }
   ],
   "source": [
    "#printing xtrain and ytrain\n",
    "print(type(x_train))\n",
    "print(type(y_train))\n",
    "print(x_train[:10])\n",
    "print(y_train[:10])\n"
   ]
  },
  {
   "cell_type": "code",
   "execution_count": 4,
   "id": "06b48b1b",
   "metadata": {},
   "outputs": [
    {
     "name": "stdout",
     "output_type": "stream",
     "text": [
      "Shape of X_train : (35,)\n",
      "Shape of y_train : (35,)\n",
      "Number of training Examples(m) : 35\n"
     ]
    }
   ],
   "source": [
    "#printing shapes and no.of.training Examples\n",
    "print(\"Shape of X_train :\", x_train.shape)\n",
    "print(\"Shape of y_train :\", y_train.shape)\n",
    "print(\"Number of training Examples(m) :\", len(x_train))\n"
   ]
  },
  {
   "cell_type": "code",
   "execution_count": 5,
   "id": "769082a1",
   "metadata": {},
   "outputs": [
    {
     "data": {
      "image/png": "[encoded data removed]",
      "text/plain": [
       "<Figure size 432x288 with 1 Axes>"
      ]
     },
     "metadata": {
      "needs_background": "light"
     },
     "output_type": "display_data"
    }
   ],
   "source": [
    "# Create a scatter plot of the data. To change the markers to red \"x\",\n",
    "# we used the 'marker' and 'c' parameters\n",
    "plt.scatter(x_train, y_train, marker='x', c='r') \n",
    "\n",
    "# Set the title\n",
    "plt.title(\"Years of Experince vs Salary\")\n",
    "# Set the y-axis label\n",
    "plt.ylabel('Salary')\n",
    "# Set the x-axis label\n",
    "plt.xlabel('Experience in Years')\n",
    "plt.show()\n",
    "\n",
    "            "
   ]
  },
  {
   "cell_type": "code",
   "execution_count": 71,
   "id": "8e9e2204",
   "metadata": {},
   "outputs": [],
   "source": [
    "#Computing The Cost for Cost Function That We Use Later.\n",
    "def compute_cost(x, y, w, b):\n",
    "    \n",
    "    total_cost = 0\n",
    "    \n",
    "    cost_sum = 0\n",
    "    \n",
    "    m = x.shape[0]\n",
    "    \n",
    "    for i in range(m):\n",
    "      f_wb = w * x[i] + b\n",
    "      cost = (f_wb - y[i])**2\n",
    "      cost_sum = cost_sum + cost\n",
    "    total_cost = (1/(2*m))*(cost_sum)\n",
    "    \n",
    "    \n",
    "    return total_cost\n"
   ]
  },
  {
   "cell_type": "code",
   "execution_count": 72,
   "id": "9d785064",
   "metadata": {},
   "outputs": [
    {
     "name": "stdout",
     "output_type": "stream",
     "text": [
      "The Cost at initial :\n",
      " 4025148406.482\n"
     ]
    }
   ],
   "source": [
    "initial_w = 1\n",
    "initial_b = 1\n",
    "cost = compute_cost(x_train, y_train, initial_w, initial_b)\n",
    "print(\"The Cost at initial :\\n\",cost)"
   ]
  },
  {
   "cell_type": "code",
   "execution_count": 74,
   "id": "e23fc017",
   "metadata": {},
   "outputs": [],
   "source": [
    "#Computing Gradient Descent for Gradient Descent Function \n",
    "def compute_gradient(x, y, w, b):\n",
    "    m = x.shape[0]\n",
    "    dj_dw = 0\n",
    "    dj_db = 0\n",
    "    \n",
    "    for i in range(m):\n",
    "        f_wb = w * x[i] + b\n",
    "        dj_dw_i = (f_wb - y[i])*x[i]\n",
    "        dj_db_i = f_wb - y[i]\n",
    "        dj_dw += dj_dw_i\n",
    "        dj_db += dj_db_i\n",
    "    dj_dw = dj_dw/m\n",
    "    dj_db = dj_db/m\n",
    "    \n",
    "    return dj_dw, dj_db"
   ]
  },
  {
   "cell_type": "code",
   "execution_count": 75,
   "id": "b4baed6e",
   "metadata": {},
   "outputs": [
    {
     "name": "stdout",
     "output_type": "stream",
     "text": [
      "Gradient Descent at initial :  -640648.9571428571 -83945.6\n"
     ]
    }
   ],
   "source": [
    "i_w = 0\n",
    "i_b = 0\n",
    "tmp_dj_dw, tmp_dj_db = compute_gradient(x_train, y_train, i_w, i_b)\n",
    "print(\"Gradient Descent at initial : \", tmp_dj_dw, tmp_dj_db)"
   ]
  },
  {
   "cell_type": "code",
   "execution_count": 227,
   "id": "4b6fb611",
   "metadata": {},
   "outputs": [],
   "source": [
    "def gradient_descent(x, y, w_in, b_in, cost_function, gradient_function, alpha, num_iters):\n",
    "    m = len(x)\n",
    "    j_history = []\n",
    "    w_history = []\n",
    "    w = copy.deepcopy(w_in)\n",
    "    b = b_in\n",
    "    \n",
    "    for i in range(num_iters):\n",
    "        dj_dw, dj_db = compute_gradient(x, y, w, b)\n",
    "        \n",
    "        w = w - alpha*dj_dw\n",
    "        b = b - alpha*dj_db\n",
    "        \n",
    "        if i<100000:\n",
    "            cost = cost_function(x, y, w, b)\n",
    "            j_history.append(cost/1000000)\n",
    "            \n",
    "        if i% math.ceil(num_iters/10) == 0:\n",
    "            w_history.append(w)\n",
    "            print(f\"Iteration {i:2}: Cost {j_history[-1]:10.2f}  \")\n",
    "                                                   \n",
    "    return w, b, j_history, w_history"
   ]
  },
  {
   "cell_type": "code",
   "execution_count": 231,
   "id": "e194f590",
   "metadata": {
    "scrolled": true
   },
   "outputs": [
    {
     "name": "stdout",
     "output_type": "stream",
     "text": [
      "Iteration  0: Cost     963.13  \n",
      "Iteration 1000: Cost      18.26  \n",
      "Iteration 2000: Cost      17.51  \n",
      "Iteration 3000: Cost      17.50  \n",
      "Iteration 4000: Cost      17.50  \n",
      "Iteration 5000: Cost      17.50  \n",
      "Iteration 6000: Cost      17.50  \n",
      "Iteration 7000: Cost      17.50  \n",
      "Iteration 8000: Cost      17.50  \n",
      "Iteration 9000: Cost      17.50  \n",
      "w,b found by gradient descent: w = 8731.94104720006, b = 28859.52619339145\n"
     ]
    }
   ],
   "source": [
    "i_w = 0\n",
    "i_b = 0\n",
    "\n",
    "iterations = 10000\n",
    "alpha = 0.01\n",
    "\n",
    "w,b,j_history,_ = gradient_descent(x_train ,y_train, i_w, i_b, \n",
    "                     compute_cost, compute_gradient, alpha, iterations)\n",
    "print(f\"w,b found by gradient descent: w = {w}, b = {b}\")"
   ]
  },
  {
   "cell_type": "code",
   "execution_count": 233,
   "id": "9db5c49d",
   "metadata": {},
   "outputs": [],
   "source": [
    "j_history_new = np.asarray(j_history)"
   ]
  },
  {
   "cell_type": "code",
   "execution_count": 234,
   "id": "75076944",
   "metadata": {},
   "outputs": [
    {
     "data": {
      "image/png": "[encoded data removed]",
      "text/plain": [
       "<Figure size 432x288 with 1 Axes>"
      ]
     },
     "metadata": {
      "needs_background": "light"
     },
     "output_type": "display_data"
    }
   ],
   "source": [
    "plt.plot(range(0, 10000), j_history_new, c='r')\n",
    "plt.title('Iteration vs Cost')\n",
    "plt.xlabel('Iterations')\n",
    "plt.ylabel('Cost')\n",
    "plt.show()"
   ]
  },
  {
   "cell_type": "code",
   "execution_count": 118,
   "id": "c990dfb3",
   "metadata": {},
   "outputs": [],
   "source": [
    "m = x_train.shape[0]\n",
    "predicted = np.zeros(m)\n",
    "\n",
    "for i in range(m):\n",
    "    predicted[i] = w * x_train[i] + b"
   ]
  },
  {
   "cell_type": "code",
   "execution_count": 36,
   "id": "4eb3d615",
   "metadata": {},
   "outputs": [
    {
     "data": {
      "text/plain": [
       "Text(0, 0.5, 'Salary')"
      ]
     },
     "execution_count": 36,
     "metadata": {},
     "output_type": "execute_result"
    },
    {
     "data": {
      "image/png": "[encoded data removed]",
      "text/plain": [
       "<Figure size 432x288 with 1 Axes>"
      ]
     },
     "metadata": {
      "needs_background": "light"
     },
     "output_type": "display_data"
    }
   ],
   "source": [
    "plt.plot(x_train, predicted, c= 'b')\n",
    "plt.scatter(x_train, y_train, marker='x', c='r')\n",
    "plt.title(\"Years in Experience vs Salary\")\n",
    "plt.xlabel(\"Years in Experience\")\n",
    "plt.ylabel(\"Salary\")"
   ]
  },
  {
   "cell_type": "code",
   "execution_count": 124,
   "id": "84fa29da",
   "metadata": {},
   "outputs": [
    {
     "name": "stdout",
     "output_type": "stream",
     "text": [
      "Predicted Salary for One Years of Experience is 37591.31\n"
     ]
    }
   ],
   "source": [
    "predict1 = 1 * w + b\n",
    "\n",
    "predicted_value = \"{:.2f}\".format(predict1)\n",
    "\n",
    "print(f\"Predicted Salary for One Years of Experience is {predicted_value}\")"
   ]
  },
  {
   "cell_type": "code",
   "execution_count": null,
   "id": "60178dbf",
   "metadata": {},
   "outputs": [],
   "source": []
  }
 ],
 "metadata": {
  "kernelspec": {
   "display_name": "Python 3 (ipykernel)",
   "language": "python",
   "name": "python3"
  },
  "language_info": {
   "codemirror_mode": {
    "name": "ipython",
    "version": 3
   },
   "file_extension": ".py",
   "mimetype": "text/x-python",
   "name": "python",
   "nbconvert_exporter": "python",
   "pygments_lexer": "ipython3",
   "version": "3.9.7"
  }
 },
 "nbformat": 4,
 "nbformat_minor": 5
}
